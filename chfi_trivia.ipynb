{
  "nbformat": 4,
  "nbformat_minor": 0,
  "metadata": {
    "colab": {
      "name": "blank.ipynb",
      "provenance": [],
      "include_colab_link": true
    },
    "kernelspec": {
      "name": "python3",
      "display_name": "Python 3"
    }
  },
  "cells": [
    {
      "cell_type": "markdown",
      "metadata": {
        "id": "view-in-github",
        "colab_type": "text"
      },
      "source": [
        "<a href=\"https://colab.research.google.com/github/tswells78/CHFI-Trivia/blob/master/chfi_trivia.ipynb\" target=\"_parent\"><img src=\"https://colab.research.google.com/assets/colab-badge.svg\" alt=\"Open In Colab\"/></a>"
      ]
    },
    {
      "cell_type": "code",
      "metadata": {
        "id": "m7S_zKqogZIG",
        "colab_type": "code",
        "colab": {}
      },
      "source": [
        "!pip install -U -q PyDrive"
      ],
      "execution_count": 0,
      "outputs": []
    },
    {
      "cell_type": "code",
      "metadata": {
        "id": "zW7UqQWy4HCT",
        "colab_type": "code",
        "colab": {}
      },
      "source": [
        "from pydrive.auth import GoogleAuth\n",
        "from pydrive.drive import GoogleDrive\n",
        "from google.colab import auth\n",
        "from oauth2client.client import GoogleCredentials\n",
        "import pandas as pd\n",
        "import re\n",
        "from random import randint\n",
        "import textwrap"
      ],
      "execution_count": 0,
      "outputs": []
    },
    {
      "cell_type": "code",
      "metadata": {
        "id": "5f2H0AavpQ0P",
        "colab_type": "code",
        "colab": {}
      },
      "source": [
        "# Authenticate and create the PyDrive client.\n",
        "auth.authenticate_user()\n",
        "gauth = GoogleAuth()\n",
        "gauth.credentials = GoogleCredentials.get_application_default()\n",
        "drive = GoogleDrive(gauth)"
      ],
      "execution_count": 0,
      "outputs": []
    },
    {
      "cell_type": "code",
      "metadata": {
        "id": "98U3GSHR4lWq",
        "colab_type": "code",
        "colab": {}
      },
      "source": [
        "link = 'https://drive.google.com/open?id=1_glUNcVXQWJFOkz3k640kWW2gUCPzuxu'"
      ],
      "execution_count": 0,
      "outputs": []
    },
    {
      "cell_type": "code",
      "metadata": {
        "id": "hX9JRdQs4muH",
        "colab_type": "code",
        "colab": {
          "base_uri": "https://localhost:8080/",
          "height": 34
        },
        "outputId": "5c546fe9-875e-44d7-9644-75e54a967c4f"
      },
      "source": [
        "fluff, id = link.split('=')\n",
        "print (id) # Verify that you have everything after '='"
      ],
      "execution_count": 13,
      "outputs": [
        {
          "output_type": "stream",
          "text": [
            "1_glUNcVXQWJFOkz3k640kWW2gUCPzuxu\n"
          ],
          "name": "stdout"
        }
      ]
    },
    {
      "cell_type": "code",
      "metadata": {
        "id": "BopXiJ7045lP",
        "colab_type": "code",
        "colab": {}
      },
      "source": [
        "downloaded = drive.CreateFile({'id':id}) \n",
        "downloaded.GetContentFile('312-49-CHFI_merged_sets.xlsx')  \n",
        "question_count = 0\n",
        "score = 0"
      ],
      "execution_count": 0,
      "outputs": []
    },
    {
      "cell_type": "code",
      "metadata": {
        "id": "ZrZ71prv7hb7",
        "colab_type": "code",
        "colab": {}
      },
      "source": [
        "def how_many_questions():\n",
        "  return input('How many questions do you want to try?  -->  ')"
      ],
      "execution_count": 0,
      "outputs": []
    },
    {
      "cell_type": "code",
      "metadata": {
        "id": "LYyDwZ_w8Wb4",
        "colab_type": "code",
        "colab": {}
      },
      "source": [
        "def question_data():\n",
        "  sheet_num = randint(1,5)\n",
        "  chfi = pd.read_excel('312-49-CHFI_merged_sets.xlsx', sheet_name='Set %s' % str(sheet_num))\n",
        "\n",
        "  chfi = chfi.fillna('None')\n",
        "\n",
        "  questions = [x for x in chfi.Questions if 'QUESTION NO' in x]\n",
        "  a_answers = [x for x in chfi.Questions if re.match('^A\\. .+', x)]\n",
        "  b_answers = [x for x in chfi.Questions if re.match('^B\\. .+', x)]\n",
        "  c_answers = [x for x in chfi.Questions if re.match('^C\\. .+', x)]\n",
        "  d_answers = [x for x in chfi.Questions if re.match('^D\\. .+', x)]\n",
        "  answers = [x for x in chfi.Questions if re.match('^Answer: .+', x)]\n",
        "\n",
        "  question_set = pd.DataFrame({'Qusetions': questions, 'A Answers': a_answers,\n",
        "                                  'B Answers': b_answers, 'C Answers': c_answers,\n",
        "                                  'D Answers': d_answers, 'Answers': answers})\n",
        "\n",
        "  return question_set"
      ],
      "execution_count": 0,
      "outputs": []
    },
    {
      "cell_type": "code",
      "metadata": {
        "id": "a8mv6FNJ8WZD",
        "colab_type": "code",
        "colab": {}
      },
      "source": [
        "def get_question():\n",
        "  random_question_number = randint(0,100)\n",
        "  return question_data().loc[random_question_number].values"
      ],
      "execution_count": 0,
      "outputs": []
    },
    {
      "cell_type": "code",
      "metadata": {
        "id": "CnaiKo3r88sF",
        "colab_type": "code",
        "colab": {}
      },
      "source": [
        "def score_card():\n",
        "  global score, question_count\n",
        "  final_score: str = \"{:.00%}\".format(float(score / question_count))\n",
        "  output = f'You scored a {final_score}'\n",
        "  return output"
      ],
      "execution_count": 0,
      "outputs": []
    },
    {
      "cell_type": "code",
      "metadata": {
        "id": "LygmxL_482ms",
        "colab_type": "code",
        "colab": {}
      },
      "source": [
        "def main():\n",
        "  global score\n",
        "  try:\n",
        "    quiz_item = get_question().tolist()\n",
        "  except KeyError:\n",
        "    quiz_item = get_question().tolist()\n",
        "\n",
        "  answer = quiz_item[5].split(':')[1].strip()\n",
        "\n",
        "  wrapper = textwrap.TextWrapper(width=50)\n",
        "  the_question = wrapper.wrap(text=quiz_item[0])\n",
        "  for lines in the_question:\n",
        "    print(lines)\n",
        "  print()\n",
        "\n",
        "  for a in quiz_item[1:5]:\n",
        "    print(a)\n",
        "  print()\n",
        "\n",
        "  user_answer = input('Answer ->  ').capitalize()\n",
        "  if user_answer == answer:\n",
        "    score += 1\n",
        "    print('Correct')\n",
        "  else:\n",
        "    print(f'Sorry it was {answer}')"
      ],
      "execution_count": 0,
      "outputs": []
    },
    {
      "cell_type": "code",
      "metadata": {
        "id": "GrO9s7iv820b",
        "colab_type": "code",
        "colab": {}
      },
      "source": [
        "try:\n",
        "  number_of_questions = int(how_many_questions())\n",
        "except ValueError:\n",
        "  print('Must be a number')\n",
        "  number_of_questions = int(how_many_questions())\n",
        "\n",
        "print()\n",
        "try:\n",
        "  while question_count != number_of_questions:\n",
        "    main()\n",
        "    question_count += 1\n",
        "    print(f'You are {score} for {question_count} of {number_of_questions}\\n')\n",
        "except KeyboardInterrupt:\n",
        "  print('Quitter!')\n",
        "  print(score_card())\n",
        "\n",
        "print(score_card())"
      ],
      "execution_count": 0,
      "outputs": []
    }
  ]
}